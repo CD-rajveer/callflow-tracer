{
 "cells": [
  {
   "cell_type": "markdown",
   "metadata": {},
   "source": [
    "# Callflow-Tracer Jupyter Notebook Examples\n",
    "\n",
    "This notebook demonstrates how to use callflow-tracer in Jupyter notebooks for interactive call graph visualization and profiling."
   ]
  },
  {
   "cell_type": "markdown",
   "metadata": {},
   "source": [
    "## Setup\n",
    "\n",
    "First, let's import the necessary modules and initialize the Jupyter integration."
   ]
  },
  {
   "cell_type": "code",
   "execution_count": 1,
   "metadata": {},
   "outputs": [
    {
     "name": "stdout",
     "output_type": "stream",
     "text": [
      "Callflow Tracer Jupyter integration loaded. Use %callflow_trace or %%callflow_cell_trace\n",
      "✓ Callflow-tracer loaded successfully!\n"
     ]
    }
   ],
   "source": [
    "import sys\n",
    "import os\n",
    "import time\n",
    "import numpy as np\n",
    "\n",
    "# Add the package to path if running from examples directory\n",
    "sys.path.insert(0, os.path.abspath('..'))\n",
    "\n",
    "from callflow_tracer import trace, trace_scope, profile_function, profile_section\n",
    "from callflow_tracer.jupyter import display_callgraph, init_jupyter\n",
    "from callflow_tracer.exporter import export_html\n",
    "\n",
    "# Initialize Jupyter integration\n",
    "init_jupyter()\n",
    "\n",
    "print(\"✓ Callflow-tracer loaded successfully!\")"
   ]
  },
  {
   "cell_type": "markdown",
   "metadata": {},
   "source": [
    "## Example 1: Basic Function Tracing\n",
    "\n",
    "Let's create some simple functions and trace their execution."
   ]
  },
  {
   "cell_type": "code",
   "execution_count": 2,
   "metadata": {},
   "outputs": [
    {
     "name": "stdout",
     "output_type": "stream",
     "text": [
      "Result: {'average': 5.5, 'total': 55}\n"
     ]
    },
    {
     "ename": "NameError",
     "evalue": "name 'nodes' is not defined",
     "output_type": "error",
     "traceback": [
      "\u001b[31m---------------------------------------------------------------------------\u001b[39m",
      "\u001b[31mNameError\u001b[39m                                 Traceback (most recent call last)",
      "\u001b[36mCell\u001b[39m\u001b[36m \u001b[39m\u001b[32mIn[2]\u001b[39m\u001b[32m, line 22\u001b[39m\n\u001b[32m     19\u001b[39m     \u001b[38;5;28mprint\u001b[39m(\u001b[33mf\u001b[39m\u001b[33m\"\u001b[39m\u001b[33mResult: \u001b[39m\u001b[38;5;132;01m{\u001b[39;00mresult\u001b[38;5;132;01m}\u001b[39;00m\u001b[33m\"\u001b[39m)\n\u001b[32m     21\u001b[39m \u001b[38;5;66;03m# Display the call graph\u001b[39;00m\n\u001b[32m---> \u001b[39m\u001b[32m22\u001b[39m \u001b[43mdisplay_callgraph\u001b[49m\u001b[43m(\u001b[49m\u001b[43mgraph\u001b[49m\u001b[43m.\u001b[49m\u001b[43mto_dict\u001b[49m\u001b[43m(\u001b[49m\u001b[43m)\u001b[49m\u001b[43m,\u001b[49m\u001b[43m \u001b[49m\u001b[43mheight\u001b[49m\u001b[43m=\u001b[49m\u001b[33;43m\"\u001b[39;49m\u001b[33;43m400px\u001b[39;49m\u001b[33;43m\"\u001b[39;49m\u001b[43m,\u001b[49m\u001b[43m \u001b[49m\u001b[43mlayout\u001b[49m\u001b[43m=\u001b[49m\u001b[33;43m\"\u001b[39;49m\u001b[33;43mhierarchical\u001b[39;49m\u001b[33;43m\"\u001b[39;49m\u001b[43m)\u001b[49m\n\u001b[32m     24\u001b[39m \u001b[38;5;28mprint\u001b[39m(\u001b[33mf\u001b[39m\u001b[33m\"\u001b[39m\u001b[38;5;130;01m\\n\u001b[39;00m\u001b[33mGraph captured \u001b[39m\u001b[38;5;132;01m{\u001b[39;00m\u001b[38;5;28mlen\u001b[39m(graph.nodes)\u001b[38;5;132;01m}\u001b[39;00m\u001b[33m nodes and \u001b[39m\u001b[38;5;132;01m{\u001b[39;00m\u001b[38;5;28mlen\u001b[39m(graph.edges)\u001b[38;5;132;01m}\u001b[39;00m\u001b[33m edges\u001b[39m\u001b[33m\"\u001b[39m)\n",
      "\u001b[36mFile \u001b[39m\u001b[32mc:\\Users\\lenovo\\Desktop\\Python Package\\callflow-tracer\\callflow_tracer\\jupyter.py:68\u001b[39m, in \u001b[36mdisplay_callgraph\u001b[39m\u001b[34m(graph_data, width, height, layout)\u001b[39m\n\u001b[32m     44\u001b[39m div_id = \u001b[33mf\u001b[39m\u001b[33m\"\u001b[39m\u001b[33mcallflow-viz-\u001b[39m\u001b[38;5;132;01m{\u001b[39;00muuid.uuid4().hex\u001b[38;5;132;01m}\u001b[39;00m\u001b[33m\"\u001b[39m\n\u001b[32m     46\u001b[39m \u001b[38;5;66;03m# Prepare the HTML/JS for the visualization\u001b[39;00m\n\u001b[32m     47\u001b[39m html = \u001b[33mf\u001b[39m\u001b[33m\"\"\"\u001b[39m\n\u001b[32m     48\u001b[39m \u001b[33m<div id=\u001b[39m\u001b[33m\"\u001b[39m\u001b[38;5;132;01m{\u001b[39;00mdiv_id\u001b[38;5;132;01m}\u001b[39;00m\u001b[33m\"\u001b[39m\u001b[33m style=\u001b[39m\u001b[33m\"\u001b[39m\u001b[33mwidth:\u001b[39m\u001b[38;5;132;01m{\u001b[39;00mwidth\u001b[38;5;132;01m}\u001b[39;00m\u001b[33m; height:\u001b[39m\u001b[38;5;132;01m{\u001b[39;00mheight\u001b[38;5;132;01m}\u001b[39;00m\u001b[33m; border:1px solid #ddd;\u001b[39m\u001b[33m\"\u001b[39m\u001b[33m></div>\u001b[39m\n\u001b[32m     49\u001b[39m \u001b[33m<script>\u001b[39m\n\u001b[32m     50\u001b[39m \u001b[33mrequire.config(\u001b[39m\u001b[38;5;130;01m{{\u001b[39;00m\u001b[33m \u001b[39m\n\u001b[32m     51\u001b[39m \u001b[33m    paths: \u001b[39m\u001b[38;5;130;01m{{\u001b[39;00m\u001b[33m \u001b[39m\n\u001b[32m     52\u001b[39m \u001b[33m        \u001b[39m\u001b[33m'\u001b[39m\u001b[33mvis\u001b[39m\u001b[33m'\u001b[39m\u001b[33m: \u001b[39m\u001b[33m'\u001b[39m\u001b[33mhttps://cdnjs.cloudflare.com/ajax/libs/vis/4.21.0/vis.min\u001b[39m\u001b[33m'\u001b[39m\u001b[33m,\u001b[39m\n\u001b[32m     53\u001b[39m \u001b[33m        \u001b[39m\u001b[33m'\u001b[39m\u001b[33mjquery\u001b[39m\u001b[33m'\u001b[39m\u001b[33m: \u001b[39m\u001b[33m'\u001b[39m\u001b[33mhttps://code.jquery.com/jquery-3.6.0.min\u001b[39m\u001b[33m'\u001b[39m\u001b[33m,\u001b[39m\n\u001b[32m     54\u001b[39m \u001b[33m        \u001b[39m\u001b[33m'\u001b[39m\u001b[33mselect2\u001b[39m\u001b[33m'\u001b[39m\u001b[33m: \u001b[39m\u001b[33m'\u001b[39m\u001b[33mhttps://cdn.jsdelivr.net/npm/select2@4.1.0-rc.0/dist/js/select2.min\u001b[39m\u001b[33m'\u001b[39m\n\u001b[32m     55\u001b[39m \u001b[33m    \u001b[39m\u001b[38;5;130;01m}}\u001b[39;00m\u001b[33m,\u001b[39m\n\u001b[32m     56\u001b[39m \u001b[33m    map: \u001b[39m\u001b[38;5;130;01m{{\u001b[39;00m\n\u001b[32m     57\u001b[39m \u001b[33m        \u001b[39m\u001b[33m'\u001b[39m\u001b[33m*\u001b[39m\u001b[33m'\u001b[39m\u001b[33m: \u001b[39m\u001b[38;5;130;01m{{\u001b[39;00m\n\u001b[32m     58\u001b[39m \u001b[33m            \u001b[39m\u001b[33m'\u001b[39m\u001b[33mcss\u001b[39m\u001b[33m'\u001b[39m\u001b[33m: \u001b[39m\u001b[33m'\u001b[39m\u001b[33mhttps://cdnjs.cloudflare.com/ajax/libs/vis/4.21.0/vis.min.css\u001b[39m\u001b[33m'\u001b[39m\u001b[33m,\u001b[39m\n\u001b[32m     59\u001b[39m \u001b[33m            \u001b[39m\u001b[33m'\u001b[39m\u001b[33mselect2css\u001b[39m\u001b[33m'\u001b[39m\u001b[33m: \u001b[39m\u001b[33m'\u001b[39m\u001b[33mhttps://cdn.jsdelivr.net/npm/select2@4.1.0-rc.0/dist/css/select2.min.css\u001b[39m\u001b[33m'\u001b[39m\n\u001b[32m     60\u001b[39m \u001b[33m        \u001b[39m\u001b[38;5;130;01m}}\u001b[39;00m\n\u001b[32m     61\u001b[39m \u001b[33m    \u001b[39m\u001b[38;5;130;01m}}\u001b[39;00m\n\u001b[32m     62\u001b[39m \u001b[33m\u001b[39m\u001b[38;5;130;01m}}\u001b[39;00m\u001b[33m);\u001b[39m\n\u001b[32m     63\u001b[39m \u001b[33m\u001b[39m\n\u001b[32m     64\u001b[39m \u001b[33mrequire([\u001b[39m\u001b[33m'\u001b[39m\u001b[33mvis\u001b[39m\u001b[33m'\u001b[39m\u001b[33m, \u001b[39m\u001b[33m'\u001b[39m\u001b[33mjquery\u001b[39m\u001b[33m'\u001b[39m\u001b[33m, \u001b[39m\u001b[33m'\u001b[39m\u001b[33mselect2\u001b[39m\u001b[33m'\u001b[39m\u001b[33m, \u001b[39m\u001b[33m'\u001b[39m\u001b[33mcss!\u001b[39m\u001b[33m'\u001b[39m\u001b[33m, \u001b[39m\u001b[33m'\u001b[39m\u001b[33mselect2css!\u001b[39m\u001b[33m'\u001b[39m\u001b[33m], function(vis, $) \u001b[39m\u001b[38;5;130;01m{{\u001b[39;00m\n\u001b[32m     65\u001b[39m \u001b[33m    // Initialize network\u001b[39m\n\u001b[32m     66\u001b[39m \u001b[33m    var container = document.getElementById(\u001b[39m\u001b[33m'\u001b[39m\u001b[38;5;132;01m{\u001b[39;00mdiv_id\u001b[38;5;132;01m}\u001b[39;00m\u001b[33m'\u001b[39m\u001b[33m);\u001b[39m\n\u001b[32m     67\u001b[39m \u001b[33m    var data = \u001b[39m\u001b[38;5;130;01m{{\u001b[39;00m\n\u001b[32m---> \u001b[39m\u001b[32m68\u001b[39m \u001b[33m        nodes: new vis.DataSet(\u001b[39m\u001b[38;5;132;01m{\u001b[39;00m\u001b[43mnodes\u001b[49m\u001b[38;5;132;01m}\u001b[39;00m\u001b[33m),\u001b[39m\n\u001b[32m     69\u001b[39m \u001b[33m        edges: new vis.DataSet(\u001b[39m\u001b[38;5;132;01m{\u001b[39;00medges\u001b[38;5;132;01m}\u001b[39;00m\u001b[33m)\u001b[39m\n\u001b[32m     70\u001b[39m \u001b[33m    \u001b[39m\u001b[38;5;130;01m}}\u001b[39;00m\u001b[33m;\u001b[39m\n\u001b[32m     71\u001b[39m \u001b[33m    \u001b[39m\n\u001b[32m     72\u001b[39m \u001b[33m    // Network options\u001b[39m\n\u001b[32m     73\u001b[39m \u001b[33m    var options = \u001b[39m\u001b[38;5;130;01m{{\u001b[39;00m\n\u001b[32m     74\u001b[39m \u001b[33m        nodes: \u001b[39m\u001b[38;5;130;01m{{\u001b[39;00m\n\u001b[32m     75\u001b[39m \u001b[33m            shape: \u001b[39m\u001b[33m'\u001b[39m\u001b[33mbox\u001b[39m\u001b[33m'\u001b[39m\u001b[33m,\u001b[39m\n\u001b[32m     76\u001b[39m \u001b[33m            font: \u001b[39m\u001b[38;5;130;01m{{\u001b[39;00m\n\u001b[32m     77\u001b[39m \u001b[33m                size: 12,\u001b[39m\n\u001b[32m     78\u001b[39m \u001b[33m                color: \u001b[39m\u001b[33m'\u001b[39m\u001b[33m#333\u001b[39m\u001b[33m'\u001b[39m\u001b[33m,\u001b[39m\n\u001b[32m     79\u001b[39m \u001b[33m                strokeWidth: 0\u001b[39m\n\u001b[32m     80\u001b[39m \u001b[33m            \u001b[39m\u001b[38;5;130;01m}}\u001b[39;00m\u001b[33m,\u001b[39m\n\u001b[32m     81\u001b[39m \u001b[33m            borderWidth: 1,\u001b[39m\n\u001b[32m     82\u001b[39m \u001b[33m            shadow: true,\u001b[39m\n\u001b[32m     83\u001b[39m \u001b[33m            margin: 10,\u001b[39m\n\u001b[32m     84\u001b[39m \u001b[33m            widthConstraint: \u001b[39m\u001b[38;5;130;01m{{\u001b[39;00m\n\u001b[32m     85\u001b[39m \u001b[33m                minimum: 100,\u001b[39m\n\u001b[32m     86\u001b[39m \u001b[33m                maximum: 200\u001b[39m\n\u001b[32m     87\u001b[39m \u001b[33m            \u001b[39m\u001b[38;5;130;01m}}\u001b[39;00m\n\u001b[32m     88\u001b[39m \u001b[33m        \u001b[39m\u001b[38;5;130;01m}}\u001b[39;00m\u001b[33m,\u001b[39m\n\u001b[32m     89\u001b[39m \u001b[33m        edges: \u001b[39m\u001b[38;5;130;01m{{\u001b[39;00m\n\u001b[32m     90\u001b[39m \u001b[33m            width: 1,\u001b[39m\n\u001b[32m     91\u001b[39m \u001b[33m            shadow: true,\u001b[39m\n\u001b[32m     92\u001b[39m \u001b[33m            smooth: \u001b[39m\u001b[38;5;130;01m{{\u001b[39;00m\n\u001b[32m     93\u001b[39m \u001b[33m                type: \u001b[39m\u001b[33m'\u001b[39m\u001b[33mcontinuous\u001b[39m\u001b[33m'\u001b[39m\n\u001b[32m     94\u001b[39m \u001b[33m            \u001b[39m\u001b[38;5;130;01m}}\u001b[39;00m\u001b[33m,\u001b[39m\n\u001b[32m     95\u001b[39m \u001b[33m            arrows: \u001b[39m\u001b[38;5;130;01m{{\u001b[39;00m\n\u001b[32m     96\u001b[39m \u001b[33m                to: \u001b[39m\u001b[38;5;130;01m{{\u001b[39;00m\u001b[33menabled: true, scaleFactor: 0.8\u001b[39m\u001b[38;5;130;01m}}\u001b[39;00m\n\u001b[32m     97\u001b[39m \u001b[33m            \u001b[39m\u001b[38;5;130;01m}}\u001b[39;00m\n\u001b[32m     98\u001b[39m \u001b[33m        \u001b[39m\u001b[38;5;130;01m}}\u001b[39;00m\u001b[33m,\u001b[39m\n\u001b[32m     99\u001b[39m \u001b[33m        interaction: \u001b[39m\u001b[38;5;130;01m{{\u001b[39;00m\n\u001b[32m    100\u001b[39m \u001b[33m            hover: true,\u001b[39m\n\u001b[32m    101\u001b[39m \u001b[33m            tooltipDelay: 200\u001b[39m\n\u001b[32m    102\u001b[39m \u001b[33m        \u001b[39m\u001b[38;5;130;01m}}\u001b[39;00m\n\u001b[32m    103\u001b[39m \u001b[33m    \u001b[39m\u001b[38;5;130;01m}}\u001b[39;00m\u001b[33m;\u001b[39m\n\u001b[32m    104\u001b[39m \u001b[33m    \u001b[39m\n\u001b[32m    105\u001b[39m \u001b[33m    // Create the network\u001b[39m\n\u001b[32m    106\u001b[39m \u001b[33m    var network = new vis.Network(container, data, options);\u001b[39m\n\u001b[32m    107\u001b[39m \u001b[33m    \u001b[39m\n\u001b[32m    108\u001b[39m \u001b[33m    // Set initial layout\u001b[39m\n\u001b[32m    109\u001b[39m \u001b[33m    changeLayout(\u001b[39m\u001b[33m'\u001b[39m\u001b[38;5;132;01m{\u001b[39;00mlayout\u001b[38;5;132;01m}\u001b[39;00m\u001b[33m'\u001b[39m\u001b[33m);\u001b[39m\n\u001b[32m    110\u001b[39m \u001b[33m    \u001b[39m\n\u001b[32m    111\u001b[39m \u001b[33m    // Layout management\u001b[39m\n\u001b[32m    112\u001b[39m \u001b[33m    function changeLayout(layoutType) \u001b[39m\u001b[38;5;130;01m{{\u001b[39;00m\n\u001b[32m    113\u001b[39m \u001b[33m        var options = network.getOptions();\u001b[39m\n\u001b[32m    114\u001b[39m \u001b[33m        \u001b[39m\n\u001b[32m    115\u001b[39m \u001b[33m        switch(layoutType) \u001b[39m\u001b[38;5;130;01m{{\u001b[39;00m\n\u001b[32m    116\u001b[39m \u001b[33m            case \u001b[39m\u001b[33m'\u001b[39m\u001b[33mhierarchical\u001b[39m\u001b[33m'\u001b[39m\u001b[33m:\u001b[39m\n\u001b[32m    117\u001b[39m \u001b[33m                options.layout = \u001b[39m\u001b[38;5;130;01m{{\u001b[39;00m\n\u001b[32m    118\u001b[39m \u001b[33m                    hierarchical: \u001b[39m\u001b[38;5;130;01m{{\u001b[39;00m\n\u001b[32m    119\u001b[39m \u001b[33m                        direction: \u001b[39m\u001b[33m'\u001b[39m\u001b[33mUD\u001b[39m\u001b[33m'\u001b[39m\u001b[33m,\u001b[39m\n\u001b[32m    120\u001b[39m \u001b[33m                        sortMethod: \u001b[39m\u001b[33m'\u001b[39m\u001b[33mdirected\u001b[39m\u001b[33m'\u001b[39m\u001b[33m,\u001b[39m\n\u001b[32m    121\u001b[39m \u001b[33m                        nodeSpacing: 150,\u001b[39m\n\u001b[32m    122\u001b[39m \u001b[33m                        levelSeparation: 150\u001b[39m\n\u001b[32m    123\u001b[39m \u001b[33m                    \u001b[39m\u001b[38;5;130;01m}}\u001b[39;00m\n\u001b[32m    124\u001b[39m \u001b[33m                \u001b[39m\u001b[38;5;130;01m}}\u001b[39;00m\u001b[33m;\u001b[39m\n\u001b[32m    125\u001b[39m \u001b[33m                options.physics = \u001b[39m\u001b[38;5;130;01m{{\u001b[39;00m\n\u001b[32m    126\u001b[39m \u001b[33m                    hierarchicalRepulsion: \u001b[39m\u001b[38;5;130;01m{{\u001b[39;00m\n\u001b[32m    127\u001b[39m \u001b[33m                        nodeDistance: 120,\u001b[39m\n\u001b[32m    128\u001b[39m \u001b[33m                        springLength: 100,\u001b[39m\n\u001b[32m    129\u001b[39m \u001b[33m                        springConstant: 0.01,\u001b[39m\n\u001b[32m    130\u001b[39m \u001b[33m                        damping: 0.09\u001b[39m\n\u001b[32m    131\u001b[39m \u001b[33m                    \u001b[39m\u001b[38;5;130;01m}}\u001b[39;00m\u001b[33m,\u001b[39m\n\u001b[32m    132\u001b[39m \u001b[33m                    solver: \u001b[39m\u001b[33m'\u001b[39m\u001b[33mhierarchicalRepulsion\u001b[39m\u001b[33m'\u001b[39m\n\u001b[32m    133\u001b[39m \u001b[33m                \u001b[39m\u001b[38;5;130;01m}}\u001b[39;00m\u001b[33m;\u001b[39m\n\u001b[32m    134\u001b[39m \u001b[33m                break;\u001b[39m\n\u001b[32m    135\u001b[39m \u001b[33m                \u001b[39m\n\u001b[32m    136\u001b[39m \u001b[33m            case \u001b[39m\u001b[33m'\u001b[39m\u001b[33mforce\u001b[39m\u001b[33m'\u001b[39m\u001b[33m:\u001b[39m\n\u001b[32m    137\u001b[39m \u001b[33m                options.layout = \u001b[39m\u001b[38;5;130;01m{{\u001b[39;00m\u001b[33m improvedLayout: true \u001b[39m\u001b[38;5;130;01m}}\u001b[39;00m\u001b[33m;\u001b[39m\n\u001b[32m    138\u001b[39m \u001b[33m                options.physics = \u001b[39m\u001b[38;5;130;01m{{\u001b[39;00m\n\u001b[32m    139\u001b[39m \u001b[33m                    forceAtlas2Based: \u001b[39m\u001b[38;5;130;01m{{\u001b[39;00m\n\u001b[32m    140\u001b[39m \u001b[33m                        gravitationalConstant: -50,\u001b[39m\n\u001b[32m    141\u001b[39m \u001b[33m                        centralGravity: 0.01,\u001b[39m\n\u001b[32m    142\u001b[39m \u001b[33m                        springLength: 100,\u001b[39m\n\u001b[32m    143\u001b[39m \u001b[33m                        springConstant: 0.08,\u001b[39m\n\u001b[32m    144\u001b[39m \u001b[33m                        damping: 0.4\u001b[39m\n\u001b[32m    145\u001b[39m \u001b[33m                    \u001b[39m\u001b[38;5;130;01m}}\u001b[39;00m\u001b[33m,\u001b[39m\n\u001b[32m    146\u001b[39m \u001b[33m                    solver: \u001b[39m\u001b[33m'\u001b[39m\u001b[33mforceAtlas2Based\u001b[39m\u001b[33m'\u001b[39m\u001b[33m,\u001b[39m\n\u001b[32m    147\u001b[39m \u001b[33m                    stabilization: \u001b[39m\u001b[38;5;130;01m{{\u001b[39;00m\n\u001b[32m    148\u001b[39m \u001b[33m                        enabled: true,\u001b[39m\n\u001b[32m    149\u001b[39m \u001b[33m                        iterations: 1000,\u001b[39m\n\u001b[32m    150\u001b[39m \u001b[33m                        updateInterval: 25\u001b[39m\n\u001b[32m    151\u001b[39m \u001b[33m                    \u001b[39m\u001b[38;5;130;01m}}\u001b[39;00m\n\u001b[32m    152\u001b[39m \u001b[33m                \u001b[39m\u001b[38;5;130;01m}}\u001b[39;00m\u001b[33m;\u001b[39m\n\u001b[32m    153\u001b[39m \u001b[33m                break;\u001b[39m\n\u001b[32m    154\u001b[39m \u001b[33m                \u001b[39m\n\u001b[32m    155\u001b[39m \u001b[33m            case \u001b[39m\u001b[33m'\u001b[39m\u001b[33mcircular\u001b[39m\u001b[33m'\u001b[39m\u001b[33m:\u001b[39m\n\u001b[32m    156\u001b[39m \u001b[33m                options.layout = \u001b[39m\u001b[38;5;130;01m{{\u001b[39;00m\n\u001b[32m    157\u001b[39m \u001b[33m                    randomSeed: 42,\u001b[39m\n\u001b[32m    158\u001b[39m \u001b[33m                    improvedLayout: true\u001b[39m\n\u001b[32m    159\u001b[39m \u001b[33m                \u001b[39m\u001b[38;5;130;01m}}\u001b[39;00m\u001b[33m;\u001b[39m\n\u001b[32m    160\u001b[39m \u001b[33m                options.physics = \u001b[39m\u001b[38;5;130;01m{{\u001b[39;00m\n\u001b[32m    161\u001b[39m \u001b[33m                    forceAtlas2Based: \u001b[39m\u001b[38;5;130;01m{{\u001b[39;00m\n\u001b[32m    162\u001b[39m \u001b[33m                        gravitationalConstant: -50,\u001b[39m\n\u001b[32m    163\u001b[39m \u001b[33m                        centralGravity: 0.01,\u001b[39m\n\u001b[32m    164\u001b[39m \u001b[33m                        springLength: 100,\u001b[39m\n\u001b[32m    165\u001b[39m \u001b[33m                        springConstant: 0.08,\u001b[39m\n\u001b[32m    166\u001b[39m \u001b[33m                        damping: 0.4\u001b[39m\n\u001b[32m    167\u001b[39m \u001b[33m                    \u001b[39m\u001b[38;5;130;01m}}\u001b[39;00m\u001b[33m,\u001b[39m\n\u001b[32m    168\u001b[39m \u001b[33m                    solver: \u001b[39m\u001b[33m'\u001b[39m\u001b[33mforceAtlas2Based\u001b[39m\u001b[33m'\u001b[39m\n\u001b[32m    169\u001b[39m \u001b[33m                \u001b[39m\u001b[38;5;130;01m}}\u001b[39;00m\u001b[33m;\u001b[39m\n\u001b[32m    170\u001b[39m \u001b[33m                break;\u001b[39m\n\u001b[32m    171\u001b[39m \u001b[33m        \u001b[39m\u001b[38;5;130;01m}}\u001b[39;00m\n\u001b[32m    172\u001b[39m \u001b[33m        \u001b[39m\n\u001b[32m    173\u001b[39m \u001b[33m        network.setOptions(options);\u001b[39m\n\u001b[32m    174\u001b[39m \u001b[33m        network.fit();\u001b[39m\n\u001b[32m    175\u001b[39m \u001b[33m    \u001b[39m\u001b[38;5;130;01m}}\u001b[39;00m\n\u001b[32m    176\u001b[39m \u001b[33m    \u001b[39m\n\u001b[32m    177\u001b[39m \u001b[33m    // Expose functions to global scope for UI controls\u001b[39m\n\u001b[32m    178\u001b[39m \u001b[33m    window[\u001b[39m\u001b[33m'\u001b[39m\u001b[38;5;132;01m{\u001b[39;00mdiv_id\u001b[38;5;132;01m}\u001b[39;00m\u001b[33m_changeLayout\u001b[39m\u001b[33m'\u001b[39m\u001b[33m] = changeLayout;\u001b[39m\n\u001b[32m    179\u001b[39m \u001b[33m\u001b[39m\u001b[38;5;130;01m}}\u001b[39;00m\u001b[33m);\u001b[39m\n\u001b[32m    180\u001b[39m \u001b[33m</script>\u001b[39m\n\u001b[32m    181\u001b[39m \u001b[33m\u001b[39m\n\u001b[32m    182\u001b[39m \u001b[33m<div style=\u001b[39m\u001b[33m\"\u001b[39m\u001b[33mmargin-top: 10px;\u001b[39m\u001b[33m\"\u001b[39m\u001b[33m>\u001b[39m\n\u001b[32m    183\u001b[39m \u001b[33m    <button onclick=\u001b[39m\u001b[33m\"\u001b[39m\u001b[33mwindow[\u001b[39m\u001b[33m'\u001b[39m\u001b[38;5;132;01m{\u001b[39;00mdiv_id\u001b[38;5;132;01m}\u001b[39;00m\u001b[33m_changeLayout\u001b[39m\u001b[33m'\u001b[39m\u001b[33m](\u001b[39m\u001b[33m'\u001b[39m\u001b[33mhierarchical\u001b[39m\u001b[33m'\u001b[39m\u001b[33m)\u001b[39m\u001b[33m\"\u001b[39m\u001b[33m>Hierarchical</button>\u001b[39m\n\u001b[32m    184\u001b[39m \u001b[33m    <button onclick=\u001b[39m\u001b[33m\"\u001b[39m\u001b[33mwindow[\u001b[39m\u001b[33m'\u001b[39m\u001b[38;5;132;01m{\u001b[39;00mdiv_id\u001b[38;5;132;01m}\u001b[39;00m\u001b[33m_changeLayout\u001b[39m\u001b[33m'\u001b[39m\u001b[33m](\u001b[39m\u001b[33m'\u001b[39m\u001b[33mforce\u001b[39m\u001b[33m'\u001b[39m\u001b[33m)\u001b[39m\u001b[33m\"\u001b[39m\u001b[33m>Force-Directed</button>\u001b[39m\n\u001b[32m    185\u001b[39m \u001b[33m    <button onclick=\u001b[39m\u001b[33m\"\u001b[39m\u001b[33mwindow[\u001b[39m\u001b[33m'\u001b[39m\u001b[38;5;132;01m{\u001b[39;00mdiv_id\u001b[38;5;132;01m}\u001b[39;00m\u001b[33m_changeLayout\u001b[39m\u001b[33m'\u001b[39m\u001b[33m](\u001b[39m\u001b[33m'\u001b[39m\u001b[33mcircular\u001b[39m\u001b[33m'\u001b[39m\u001b[33m)\u001b[39m\u001b[33m\"\u001b[39m\u001b[33m>Circular</button>\u001b[39m\n\u001b[32m    186\u001b[39m \u001b[33m</div>\u001b[39m\n\u001b[32m    187\u001b[39m \u001b[33m\u001b[39m\u001b[33m\"\"\"\u001b[39m.format(\n\u001b[32m    188\u001b[39m     div_id=div_id,\n\u001b[32m    189\u001b[39m     nodes=graph_data[\u001b[33m'\u001b[39m\u001b[33mnodes\u001b[39m\u001b[33m'\u001b[39m],\n\u001b[32m    190\u001b[39m     edges=graph_data[\u001b[33m'\u001b[39m\u001b[33medges\u001b[39m\u001b[33m'\u001b[39m],\n\u001b[32m    191\u001b[39m     layout=layout\n\u001b[32m    192\u001b[39m )\n\u001b[32m    194\u001b[39m display(HTML(html))\n",
      "\u001b[31mNameError\u001b[39m: name 'nodes' is not defined"
     ]
    }
   ],
   "source": [
    "def calculate_sum(numbers):\n",
    "    \"\"\"Calculate sum of numbers.\"\"\"\n",
    "    return sum(numbers)\n",
    "\n",
    "def calculate_average(numbers):\n",
    "    \"\"\"Calculate average of numbers.\"\"\"\n",
    "    total = calculate_sum(numbers)\n",
    "    return total / len(numbers)\n",
    "\n",
    "def process_data(data):\n",
    "    \"\"\"Process data and return statistics.\"\"\"\n",
    "    avg = calculate_average(data)\n",
    "    total = calculate_sum(data)\n",
    "    return {'average': avg, 'total': total}\n",
    "\n",
    "# Trace the execution\n",
    "with trace_scope() as graph:\n",
    "    result = process_data([1, 2, 3, 4, 5, 6, 7, 8, 9, 10])\n",
    "    print(f\"Result: {result}\")\n",
    "\n",
    "# Display the call graph\n",
    "display_callgraph(graph.to_dict(), height=\"400px\", layout=\"hierarchical\")\n",
    "\n",
    "print(f\"\\nGraph captured {len(graph.nodes)} nodes and {len(graph.edges)} edges\")"
   ]
  },
  {
   "cell_type": "markdown",
   "metadata": {},
   "source": [
    "## Example 2: Recursive Function Tracing\n",
    "\n",
    "Trace recursive functions to see the call hierarchy."
   ]
  },
  {
   "cell_type": "code",
   "execution_count": 3,
   "metadata": {},
   "outputs": [
    {
     "name": "stdout",
     "output_type": "stream",
     "text": [
      "Fibonacci(8) = 21\n",
      "Factorial(5) = 120\n"
     ]
    },
    {
     "ename": "NameError",
     "evalue": "name 'nodes' is not defined",
     "output_type": "error",
     "traceback": [
      "\u001b[31m---------------------------------------------------------------------------\u001b[39m",
      "\u001b[31mNameError\u001b[39m                                 Traceback (most recent call last)",
      "\u001b[36mCell\u001b[39m\u001b[36m \u001b[39m\u001b[32mIn[3]\u001b[39m\u001b[32m, line 21\u001b[39m\n\u001b[32m     18\u001b[39m     \u001b[38;5;28mprint\u001b[39m(\u001b[33mf\u001b[39m\u001b[33m\"\u001b[39m\u001b[33mFactorial(5) = \u001b[39m\u001b[38;5;132;01m{\u001b[39;00mfact_result\u001b[38;5;132;01m}\u001b[39;00m\u001b[33m\"\u001b[39m)\n\u001b[32m     20\u001b[39m \u001b[38;5;66;03m# Display with force-directed layout\u001b[39;00m\n\u001b[32m---> \u001b[39m\u001b[32m21\u001b[39m \u001b[43mdisplay_callgraph\u001b[49m\u001b[43m(\u001b[49m\u001b[43mgraph\u001b[49m\u001b[43m.\u001b[49m\u001b[43mto_dict\u001b[49m\u001b[43m(\u001b[49m\u001b[43m)\u001b[49m\u001b[43m,\u001b[49m\u001b[43m \u001b[49m\u001b[43mheight\u001b[49m\u001b[43m=\u001b[49m\u001b[33;43m\"\u001b[39;49m\u001b[33;43m500px\u001b[39;49m\u001b[33;43m\"\u001b[39;49m\u001b[43m,\u001b[49m\u001b[43m \u001b[49m\u001b[43mlayout\u001b[49m\u001b[43m=\u001b[49m\u001b[33;43m\"\u001b[39;49m\u001b[33;43mforce\u001b[39;49m\u001b[33;43m\"\u001b[39;49m\u001b[43m)\u001b[49m\n\u001b[32m     23\u001b[39m \u001b[38;5;28mprint\u001b[39m(\u001b[33mf\u001b[39m\u001b[33m\"\u001b[39m\u001b[38;5;130;01m\\n\u001b[39;00m\u001b[33mCaptured \u001b[39m\u001b[38;5;132;01m{\u001b[39;00m\u001b[38;5;28mlen\u001b[39m(graph.nodes)\u001b[38;5;132;01m}\u001b[39;00m\u001b[33m function calls\u001b[39m\u001b[33m\"\u001b[39m)\n",
      "\u001b[36mFile \u001b[39m\u001b[32mc:\\Users\\lenovo\\Desktop\\Python Package\\callflow-tracer\\callflow_tracer\\jupyter.py:68\u001b[39m, in \u001b[36mdisplay_callgraph\u001b[39m\u001b[34m(graph_data, width, height, layout)\u001b[39m\n\u001b[32m     44\u001b[39m div_id = \u001b[33mf\u001b[39m\u001b[33m\"\u001b[39m\u001b[33mcallflow-viz-\u001b[39m\u001b[38;5;132;01m{\u001b[39;00muuid.uuid4().hex\u001b[38;5;132;01m}\u001b[39;00m\u001b[33m\"\u001b[39m\n\u001b[32m     46\u001b[39m \u001b[38;5;66;03m# Prepare the HTML/JS for the visualization\u001b[39;00m\n\u001b[32m     47\u001b[39m html = \u001b[33mf\u001b[39m\u001b[33m\"\"\"\u001b[39m\n\u001b[32m     48\u001b[39m \u001b[33m<div id=\u001b[39m\u001b[33m\"\u001b[39m\u001b[38;5;132;01m{\u001b[39;00mdiv_id\u001b[38;5;132;01m}\u001b[39;00m\u001b[33m\"\u001b[39m\u001b[33m style=\u001b[39m\u001b[33m\"\u001b[39m\u001b[33mwidth:\u001b[39m\u001b[38;5;132;01m{\u001b[39;00mwidth\u001b[38;5;132;01m}\u001b[39;00m\u001b[33m; height:\u001b[39m\u001b[38;5;132;01m{\u001b[39;00mheight\u001b[38;5;132;01m}\u001b[39;00m\u001b[33m; border:1px solid #ddd;\u001b[39m\u001b[33m\"\u001b[39m\u001b[33m></div>\u001b[39m\n\u001b[32m     49\u001b[39m \u001b[33m<script>\u001b[39m\n\u001b[32m     50\u001b[39m \u001b[33mrequire.config(\u001b[39m\u001b[38;5;130;01m{{\u001b[39;00m\u001b[33m \u001b[39m\n\u001b[32m     51\u001b[39m \u001b[33m    paths: \u001b[39m\u001b[38;5;130;01m{{\u001b[39;00m\u001b[33m \u001b[39m\n\u001b[32m     52\u001b[39m \u001b[33m        \u001b[39m\u001b[33m'\u001b[39m\u001b[33mvis\u001b[39m\u001b[33m'\u001b[39m\u001b[33m: \u001b[39m\u001b[33m'\u001b[39m\u001b[33mhttps://cdnjs.cloudflare.com/ajax/libs/vis/4.21.0/vis.min\u001b[39m\u001b[33m'\u001b[39m\u001b[33m,\u001b[39m\n\u001b[32m     53\u001b[39m \u001b[33m        \u001b[39m\u001b[33m'\u001b[39m\u001b[33mjquery\u001b[39m\u001b[33m'\u001b[39m\u001b[33m: \u001b[39m\u001b[33m'\u001b[39m\u001b[33mhttps://code.jquery.com/jquery-3.6.0.min\u001b[39m\u001b[33m'\u001b[39m\u001b[33m,\u001b[39m\n\u001b[32m     54\u001b[39m \u001b[33m        \u001b[39m\u001b[33m'\u001b[39m\u001b[33mselect2\u001b[39m\u001b[33m'\u001b[39m\u001b[33m: \u001b[39m\u001b[33m'\u001b[39m\u001b[33mhttps://cdn.jsdelivr.net/npm/select2@4.1.0-rc.0/dist/js/select2.min\u001b[39m\u001b[33m'\u001b[39m\n\u001b[32m     55\u001b[39m \u001b[33m    \u001b[39m\u001b[38;5;130;01m}}\u001b[39;00m\u001b[33m,\u001b[39m\n\u001b[32m     56\u001b[39m \u001b[33m    map: \u001b[39m\u001b[38;5;130;01m{{\u001b[39;00m\n\u001b[32m     57\u001b[39m \u001b[33m        \u001b[39m\u001b[33m'\u001b[39m\u001b[33m*\u001b[39m\u001b[33m'\u001b[39m\u001b[33m: \u001b[39m\u001b[38;5;130;01m{{\u001b[39;00m\n\u001b[32m     58\u001b[39m \u001b[33m            \u001b[39m\u001b[33m'\u001b[39m\u001b[33mcss\u001b[39m\u001b[33m'\u001b[39m\u001b[33m: \u001b[39m\u001b[33m'\u001b[39m\u001b[33mhttps://cdnjs.cloudflare.com/ajax/libs/vis/4.21.0/vis.min.css\u001b[39m\u001b[33m'\u001b[39m\u001b[33m,\u001b[39m\n\u001b[32m     59\u001b[39m \u001b[33m            \u001b[39m\u001b[33m'\u001b[39m\u001b[33mselect2css\u001b[39m\u001b[33m'\u001b[39m\u001b[33m: \u001b[39m\u001b[33m'\u001b[39m\u001b[33mhttps://cdn.jsdelivr.net/npm/select2@4.1.0-rc.0/dist/css/select2.min.css\u001b[39m\u001b[33m'\u001b[39m\n\u001b[32m     60\u001b[39m \u001b[33m        \u001b[39m\u001b[38;5;130;01m}}\u001b[39;00m\n\u001b[32m     61\u001b[39m \u001b[33m    \u001b[39m\u001b[38;5;130;01m}}\u001b[39;00m\n\u001b[32m     62\u001b[39m \u001b[33m\u001b[39m\u001b[38;5;130;01m}}\u001b[39;00m\u001b[33m);\u001b[39m\n\u001b[32m     63\u001b[39m \u001b[33m\u001b[39m\n\u001b[32m     64\u001b[39m \u001b[33mrequire([\u001b[39m\u001b[33m'\u001b[39m\u001b[33mvis\u001b[39m\u001b[33m'\u001b[39m\u001b[33m, \u001b[39m\u001b[33m'\u001b[39m\u001b[33mjquery\u001b[39m\u001b[33m'\u001b[39m\u001b[33m, \u001b[39m\u001b[33m'\u001b[39m\u001b[33mselect2\u001b[39m\u001b[33m'\u001b[39m\u001b[33m, \u001b[39m\u001b[33m'\u001b[39m\u001b[33mcss!\u001b[39m\u001b[33m'\u001b[39m\u001b[33m, \u001b[39m\u001b[33m'\u001b[39m\u001b[33mselect2css!\u001b[39m\u001b[33m'\u001b[39m\u001b[33m], function(vis, $) \u001b[39m\u001b[38;5;130;01m{{\u001b[39;00m\n\u001b[32m     65\u001b[39m \u001b[33m    // Initialize network\u001b[39m\n\u001b[32m     66\u001b[39m \u001b[33m    var container = document.getElementById(\u001b[39m\u001b[33m'\u001b[39m\u001b[38;5;132;01m{\u001b[39;00mdiv_id\u001b[38;5;132;01m}\u001b[39;00m\u001b[33m'\u001b[39m\u001b[33m);\u001b[39m\n\u001b[32m     67\u001b[39m \u001b[33m    var data = \u001b[39m\u001b[38;5;130;01m{{\u001b[39;00m\n\u001b[32m---> \u001b[39m\u001b[32m68\u001b[39m \u001b[33m        nodes: new vis.DataSet(\u001b[39m\u001b[38;5;132;01m{\u001b[39;00m\u001b[43mnodes\u001b[49m\u001b[38;5;132;01m}\u001b[39;00m\u001b[33m),\u001b[39m\n\u001b[32m     69\u001b[39m \u001b[33m        edges: new vis.DataSet(\u001b[39m\u001b[38;5;132;01m{\u001b[39;00medges\u001b[38;5;132;01m}\u001b[39;00m\u001b[33m)\u001b[39m\n\u001b[32m     70\u001b[39m \u001b[33m    \u001b[39m\u001b[38;5;130;01m}}\u001b[39;00m\u001b[33m;\u001b[39m\n\u001b[32m     71\u001b[39m \u001b[33m    \u001b[39m\n\u001b[32m     72\u001b[39m \u001b[33m    // Network options\u001b[39m\n\u001b[32m     73\u001b[39m \u001b[33m    var options = \u001b[39m\u001b[38;5;130;01m{{\u001b[39;00m\n\u001b[32m     74\u001b[39m \u001b[33m        nodes: \u001b[39m\u001b[38;5;130;01m{{\u001b[39;00m\n\u001b[32m     75\u001b[39m \u001b[33m            shape: \u001b[39m\u001b[33m'\u001b[39m\u001b[33mbox\u001b[39m\u001b[33m'\u001b[39m\u001b[33m,\u001b[39m\n\u001b[32m     76\u001b[39m \u001b[33m            font: \u001b[39m\u001b[38;5;130;01m{{\u001b[39;00m\n\u001b[32m     77\u001b[39m \u001b[33m                size: 12,\u001b[39m\n\u001b[32m     78\u001b[39m \u001b[33m                color: \u001b[39m\u001b[33m'\u001b[39m\u001b[33m#333\u001b[39m\u001b[33m'\u001b[39m\u001b[33m,\u001b[39m\n\u001b[32m     79\u001b[39m \u001b[33m                strokeWidth: 0\u001b[39m\n\u001b[32m     80\u001b[39m \u001b[33m            \u001b[39m\u001b[38;5;130;01m}}\u001b[39;00m\u001b[33m,\u001b[39m\n\u001b[32m     81\u001b[39m \u001b[33m            borderWidth: 1,\u001b[39m\n\u001b[32m     82\u001b[39m \u001b[33m            shadow: true,\u001b[39m\n\u001b[32m     83\u001b[39m \u001b[33m            margin: 10,\u001b[39m\n\u001b[32m     84\u001b[39m \u001b[33m            widthConstraint: \u001b[39m\u001b[38;5;130;01m{{\u001b[39;00m\n\u001b[32m     85\u001b[39m \u001b[33m                minimum: 100,\u001b[39m\n\u001b[32m     86\u001b[39m \u001b[33m                maximum: 200\u001b[39m\n\u001b[32m     87\u001b[39m \u001b[33m            \u001b[39m\u001b[38;5;130;01m}}\u001b[39;00m\n\u001b[32m     88\u001b[39m \u001b[33m        \u001b[39m\u001b[38;5;130;01m}}\u001b[39;00m\u001b[33m,\u001b[39m\n\u001b[32m     89\u001b[39m \u001b[33m        edges: \u001b[39m\u001b[38;5;130;01m{{\u001b[39;00m\n\u001b[32m     90\u001b[39m \u001b[33m            width: 1,\u001b[39m\n\u001b[32m     91\u001b[39m \u001b[33m            shadow: true,\u001b[39m\n\u001b[32m     92\u001b[39m \u001b[33m            smooth: \u001b[39m\u001b[38;5;130;01m{{\u001b[39;00m\n\u001b[32m     93\u001b[39m \u001b[33m                type: \u001b[39m\u001b[33m'\u001b[39m\u001b[33mcontinuous\u001b[39m\u001b[33m'\u001b[39m\n\u001b[32m     94\u001b[39m \u001b[33m            \u001b[39m\u001b[38;5;130;01m}}\u001b[39;00m\u001b[33m,\u001b[39m\n\u001b[32m     95\u001b[39m \u001b[33m            arrows: \u001b[39m\u001b[38;5;130;01m{{\u001b[39;00m\n\u001b[32m     96\u001b[39m \u001b[33m                to: \u001b[39m\u001b[38;5;130;01m{{\u001b[39;00m\u001b[33menabled: true, scaleFactor: 0.8\u001b[39m\u001b[38;5;130;01m}}\u001b[39;00m\n\u001b[32m     97\u001b[39m \u001b[33m            \u001b[39m\u001b[38;5;130;01m}}\u001b[39;00m\n\u001b[32m     98\u001b[39m \u001b[33m        \u001b[39m\u001b[38;5;130;01m}}\u001b[39;00m\u001b[33m,\u001b[39m\n\u001b[32m     99\u001b[39m \u001b[33m        interaction: \u001b[39m\u001b[38;5;130;01m{{\u001b[39;00m\n\u001b[32m    100\u001b[39m \u001b[33m            hover: true,\u001b[39m\n\u001b[32m    101\u001b[39m \u001b[33m            tooltipDelay: 200\u001b[39m\n\u001b[32m    102\u001b[39m \u001b[33m        \u001b[39m\u001b[38;5;130;01m}}\u001b[39;00m\n\u001b[32m    103\u001b[39m \u001b[33m    \u001b[39m\u001b[38;5;130;01m}}\u001b[39;00m\u001b[33m;\u001b[39m\n\u001b[32m    104\u001b[39m \u001b[33m    \u001b[39m\n\u001b[32m    105\u001b[39m \u001b[33m    // Create the network\u001b[39m\n\u001b[32m    106\u001b[39m \u001b[33m    var network = new vis.Network(container, data, options);\u001b[39m\n\u001b[32m    107\u001b[39m \u001b[33m    \u001b[39m\n\u001b[32m    108\u001b[39m \u001b[33m    // Set initial layout\u001b[39m\n\u001b[32m    109\u001b[39m \u001b[33m    changeLayout(\u001b[39m\u001b[33m'\u001b[39m\u001b[38;5;132;01m{\u001b[39;00mlayout\u001b[38;5;132;01m}\u001b[39;00m\u001b[33m'\u001b[39m\u001b[33m);\u001b[39m\n\u001b[32m    110\u001b[39m \u001b[33m    \u001b[39m\n\u001b[32m    111\u001b[39m \u001b[33m    // Layout management\u001b[39m\n\u001b[32m    112\u001b[39m \u001b[33m    function changeLayout(layoutType) \u001b[39m\u001b[38;5;130;01m{{\u001b[39;00m\n\u001b[32m    113\u001b[39m \u001b[33m        var options = network.getOptions();\u001b[39m\n\u001b[32m    114\u001b[39m \u001b[33m        \u001b[39m\n\u001b[32m    115\u001b[39m \u001b[33m        switch(layoutType) \u001b[39m\u001b[38;5;130;01m{{\u001b[39;00m\n\u001b[32m    116\u001b[39m \u001b[33m            case \u001b[39m\u001b[33m'\u001b[39m\u001b[33mhierarchical\u001b[39m\u001b[33m'\u001b[39m\u001b[33m:\u001b[39m\n\u001b[32m    117\u001b[39m \u001b[33m                options.layout = \u001b[39m\u001b[38;5;130;01m{{\u001b[39;00m\n\u001b[32m    118\u001b[39m \u001b[33m                    hierarchical: \u001b[39m\u001b[38;5;130;01m{{\u001b[39;00m\n\u001b[32m    119\u001b[39m \u001b[33m                        direction: \u001b[39m\u001b[33m'\u001b[39m\u001b[33mUD\u001b[39m\u001b[33m'\u001b[39m\u001b[33m,\u001b[39m\n\u001b[32m    120\u001b[39m \u001b[33m                        sortMethod: \u001b[39m\u001b[33m'\u001b[39m\u001b[33mdirected\u001b[39m\u001b[33m'\u001b[39m\u001b[33m,\u001b[39m\n\u001b[32m    121\u001b[39m \u001b[33m                        nodeSpacing: 150,\u001b[39m\n\u001b[32m    122\u001b[39m \u001b[33m                        levelSeparation: 150\u001b[39m\n\u001b[32m    123\u001b[39m \u001b[33m                    \u001b[39m\u001b[38;5;130;01m}}\u001b[39;00m\n\u001b[32m    124\u001b[39m \u001b[33m                \u001b[39m\u001b[38;5;130;01m}}\u001b[39;00m\u001b[33m;\u001b[39m\n\u001b[32m    125\u001b[39m \u001b[33m                options.physics = \u001b[39m\u001b[38;5;130;01m{{\u001b[39;00m\n\u001b[32m    126\u001b[39m \u001b[33m                    hierarchicalRepulsion: \u001b[39m\u001b[38;5;130;01m{{\u001b[39;00m\n\u001b[32m    127\u001b[39m \u001b[33m                        nodeDistance: 120,\u001b[39m\n\u001b[32m    128\u001b[39m \u001b[33m                        springLength: 100,\u001b[39m\n\u001b[32m    129\u001b[39m \u001b[33m                        springConstant: 0.01,\u001b[39m\n\u001b[32m    130\u001b[39m \u001b[33m                        damping: 0.09\u001b[39m\n\u001b[32m    131\u001b[39m \u001b[33m                    \u001b[39m\u001b[38;5;130;01m}}\u001b[39;00m\u001b[33m,\u001b[39m\n\u001b[32m    132\u001b[39m \u001b[33m                    solver: \u001b[39m\u001b[33m'\u001b[39m\u001b[33mhierarchicalRepulsion\u001b[39m\u001b[33m'\u001b[39m\n\u001b[32m    133\u001b[39m \u001b[33m                \u001b[39m\u001b[38;5;130;01m}}\u001b[39;00m\u001b[33m;\u001b[39m\n\u001b[32m    134\u001b[39m \u001b[33m                break;\u001b[39m\n\u001b[32m    135\u001b[39m \u001b[33m                \u001b[39m\n\u001b[32m    136\u001b[39m \u001b[33m            case \u001b[39m\u001b[33m'\u001b[39m\u001b[33mforce\u001b[39m\u001b[33m'\u001b[39m\u001b[33m:\u001b[39m\n\u001b[32m    137\u001b[39m \u001b[33m                options.layout = \u001b[39m\u001b[38;5;130;01m{{\u001b[39;00m\u001b[33m improvedLayout: true \u001b[39m\u001b[38;5;130;01m}}\u001b[39;00m\u001b[33m;\u001b[39m\n\u001b[32m    138\u001b[39m \u001b[33m                options.physics = \u001b[39m\u001b[38;5;130;01m{{\u001b[39;00m\n\u001b[32m    139\u001b[39m \u001b[33m                    forceAtlas2Based: \u001b[39m\u001b[38;5;130;01m{{\u001b[39;00m\n\u001b[32m    140\u001b[39m \u001b[33m                        gravitationalConstant: -50,\u001b[39m\n\u001b[32m    141\u001b[39m \u001b[33m                        centralGravity: 0.01,\u001b[39m\n\u001b[32m    142\u001b[39m \u001b[33m                        springLength: 100,\u001b[39m\n\u001b[32m    143\u001b[39m \u001b[33m                        springConstant: 0.08,\u001b[39m\n\u001b[32m    144\u001b[39m \u001b[33m                        damping: 0.4\u001b[39m\n\u001b[32m    145\u001b[39m \u001b[33m                    \u001b[39m\u001b[38;5;130;01m}}\u001b[39;00m\u001b[33m,\u001b[39m\n\u001b[32m    146\u001b[39m \u001b[33m                    solver: \u001b[39m\u001b[33m'\u001b[39m\u001b[33mforceAtlas2Based\u001b[39m\u001b[33m'\u001b[39m\u001b[33m,\u001b[39m\n\u001b[32m    147\u001b[39m \u001b[33m                    stabilization: \u001b[39m\u001b[38;5;130;01m{{\u001b[39;00m\n\u001b[32m    148\u001b[39m \u001b[33m                        enabled: true,\u001b[39m\n\u001b[32m    149\u001b[39m \u001b[33m                        iterations: 1000,\u001b[39m\n\u001b[32m    150\u001b[39m \u001b[33m                        updateInterval: 25\u001b[39m\n\u001b[32m    151\u001b[39m \u001b[33m                    \u001b[39m\u001b[38;5;130;01m}}\u001b[39;00m\n\u001b[32m    152\u001b[39m \u001b[33m                \u001b[39m\u001b[38;5;130;01m}}\u001b[39;00m\u001b[33m;\u001b[39m\n\u001b[32m    153\u001b[39m \u001b[33m                break;\u001b[39m\n\u001b[32m    154\u001b[39m \u001b[33m                \u001b[39m\n\u001b[32m    155\u001b[39m \u001b[33m            case \u001b[39m\u001b[33m'\u001b[39m\u001b[33mcircular\u001b[39m\u001b[33m'\u001b[39m\u001b[33m:\u001b[39m\n\u001b[32m    156\u001b[39m \u001b[33m                options.layout = \u001b[39m\u001b[38;5;130;01m{{\u001b[39;00m\n\u001b[32m    157\u001b[39m \u001b[33m                    randomSeed: 42,\u001b[39m\n\u001b[32m    158\u001b[39m \u001b[33m                    improvedLayout: true\u001b[39m\n\u001b[32m    159\u001b[39m \u001b[33m                \u001b[39m\u001b[38;5;130;01m}}\u001b[39;00m\u001b[33m;\u001b[39m\n\u001b[32m    160\u001b[39m \u001b[33m                options.physics = \u001b[39m\u001b[38;5;130;01m{{\u001b[39;00m\n\u001b[32m    161\u001b[39m \u001b[33m                    forceAtlas2Based: \u001b[39m\u001b[38;5;130;01m{{\u001b[39;00m\n\u001b[32m    162\u001b[39m \u001b[33m                        gravitationalConstant: -50,\u001b[39m\n\u001b[32m    163\u001b[39m \u001b[33m                        centralGravity: 0.01,\u001b[39m\n\u001b[32m    164\u001b[39m \u001b[33m                        springLength: 100,\u001b[39m\n\u001b[32m    165\u001b[39m \u001b[33m                        springConstant: 0.08,\u001b[39m\n\u001b[32m    166\u001b[39m \u001b[33m                        damping: 0.4\u001b[39m\n\u001b[32m    167\u001b[39m \u001b[33m                    \u001b[39m\u001b[38;5;130;01m}}\u001b[39;00m\u001b[33m,\u001b[39m\n\u001b[32m    168\u001b[39m \u001b[33m                    solver: \u001b[39m\u001b[33m'\u001b[39m\u001b[33mforceAtlas2Based\u001b[39m\u001b[33m'\u001b[39m\n\u001b[32m    169\u001b[39m \u001b[33m                \u001b[39m\u001b[38;5;130;01m}}\u001b[39;00m\u001b[33m;\u001b[39m\n\u001b[32m    170\u001b[39m \u001b[33m                break;\u001b[39m\n\u001b[32m    171\u001b[39m \u001b[33m        \u001b[39m\u001b[38;5;130;01m}}\u001b[39;00m\n\u001b[32m    172\u001b[39m \u001b[33m        \u001b[39m\n\u001b[32m    173\u001b[39m \u001b[33m        network.setOptions(options);\u001b[39m\n\u001b[32m    174\u001b[39m \u001b[33m        network.fit();\u001b[39m\n\u001b[32m    175\u001b[39m \u001b[33m    \u001b[39m\u001b[38;5;130;01m}}\u001b[39;00m\n\u001b[32m    176\u001b[39m \u001b[33m    \u001b[39m\n\u001b[32m    177\u001b[39m \u001b[33m    // Expose functions to global scope for UI controls\u001b[39m\n\u001b[32m    178\u001b[39m \u001b[33m    window[\u001b[39m\u001b[33m'\u001b[39m\u001b[38;5;132;01m{\u001b[39;00mdiv_id\u001b[38;5;132;01m}\u001b[39;00m\u001b[33m_changeLayout\u001b[39m\u001b[33m'\u001b[39m\u001b[33m] = changeLayout;\u001b[39m\n\u001b[32m    179\u001b[39m \u001b[33m\u001b[39m\u001b[38;5;130;01m}}\u001b[39;00m\u001b[33m);\u001b[39m\n\u001b[32m    180\u001b[39m \u001b[33m</script>\u001b[39m\n\u001b[32m    181\u001b[39m \u001b[33m\u001b[39m\n\u001b[32m    182\u001b[39m \u001b[33m<div style=\u001b[39m\u001b[33m\"\u001b[39m\u001b[33mmargin-top: 10px;\u001b[39m\u001b[33m\"\u001b[39m\u001b[33m>\u001b[39m\n\u001b[32m    183\u001b[39m \u001b[33m    <button onclick=\u001b[39m\u001b[33m\"\u001b[39m\u001b[33mwindow[\u001b[39m\u001b[33m'\u001b[39m\u001b[38;5;132;01m{\u001b[39;00mdiv_id\u001b[38;5;132;01m}\u001b[39;00m\u001b[33m_changeLayout\u001b[39m\u001b[33m'\u001b[39m\u001b[33m](\u001b[39m\u001b[33m'\u001b[39m\u001b[33mhierarchical\u001b[39m\u001b[33m'\u001b[39m\u001b[33m)\u001b[39m\u001b[33m\"\u001b[39m\u001b[33m>Hierarchical</button>\u001b[39m\n\u001b[32m    184\u001b[39m \u001b[33m    <button onclick=\u001b[39m\u001b[33m\"\u001b[39m\u001b[33mwindow[\u001b[39m\u001b[33m'\u001b[39m\u001b[38;5;132;01m{\u001b[39;00mdiv_id\u001b[38;5;132;01m}\u001b[39;00m\u001b[33m_changeLayout\u001b[39m\u001b[33m'\u001b[39m\u001b[33m](\u001b[39m\u001b[33m'\u001b[39m\u001b[33mforce\u001b[39m\u001b[33m'\u001b[39m\u001b[33m)\u001b[39m\u001b[33m\"\u001b[39m\u001b[33m>Force-Directed</button>\u001b[39m\n\u001b[32m    185\u001b[39m \u001b[33m    <button onclick=\u001b[39m\u001b[33m\"\u001b[39m\u001b[33mwindow[\u001b[39m\u001b[33m'\u001b[39m\u001b[38;5;132;01m{\u001b[39;00mdiv_id\u001b[38;5;132;01m}\u001b[39;00m\u001b[33m_changeLayout\u001b[39m\u001b[33m'\u001b[39m\u001b[33m](\u001b[39m\u001b[33m'\u001b[39m\u001b[33mcircular\u001b[39m\u001b[33m'\u001b[39m\u001b[33m)\u001b[39m\u001b[33m\"\u001b[39m\u001b[33m>Circular</button>\u001b[39m\n\u001b[32m    186\u001b[39m \u001b[33m</div>\u001b[39m\n\u001b[32m    187\u001b[39m \u001b[33m\u001b[39m\u001b[33m\"\"\"\u001b[39m.format(\n\u001b[32m    188\u001b[39m     div_id=div_id,\n\u001b[32m    189\u001b[39m     nodes=graph_data[\u001b[33m'\u001b[39m\u001b[33mnodes\u001b[39m\u001b[33m'\u001b[39m],\n\u001b[32m    190\u001b[39m     edges=graph_data[\u001b[33m'\u001b[39m\u001b[33medges\u001b[39m\u001b[33m'\u001b[39m],\n\u001b[32m    191\u001b[39m     layout=layout\n\u001b[32m    192\u001b[39m )\n\u001b[32m    194\u001b[39m display(HTML(html))\n",
      "\u001b[31mNameError\u001b[39m: name 'nodes' is not defined"
     ]
    }
   ],
   "source": [
    "def fibonacci(n):\n",
    "    \"\"\"Calculate fibonacci number recursively.\"\"\"\n",
    "    if n <= 1:\n",
    "        return n\n",
    "    return fibonacci(n - 1) + fibonacci(n - 2)\n",
    "\n",
    "def factorial(n):\n",
    "    \"\"\"Calculate factorial recursively.\"\"\"\n",
    "    if n <= 1:\n",
    "        return 1\n",
    "    return n * factorial(n - 1)\n",
    "\n",
    "# Trace recursive calls\n",
    "with trace_scope() as graph:\n",
    "    fib_result = fibonacci(8)\n",
    "    fact_result = factorial(5)\n",
    "    print(f\"Fibonacci(8) = {fib_result}\")\n",
    "    print(f\"Factorial(5) = {fact_result}\")\n",
    "\n",
    "# Display with force-directed layout\n",
    "display_callgraph(graph.to_dict(), height=\"500px\", layout=\"force\")\n",
    "\n",
    "print(f\"\\nCaptured {len(graph.nodes)} function calls\")"
   ]
  },
  {
   "cell_type": "markdown",
   "metadata": {},
   "source": [
    "## Example 3: Performance Profiling\n",
    "\n",
    "Use profiling to measure execution time, memory usage, and CPU performance."
   ]
  },
  {
   "cell_type": "code",
   "execution_count": null,
   "metadata": {},
   "outputs": [],
   "source": [
    "@profile_function\n",
    "def matrix_multiplication(size):\n",
    "    \"\"\"Perform matrix multiplication.\"\"\"\n",
    "    a = np.random.rand(size, size)\n",
    "    b = np.random.rand(size, size)\n",
    "    return np.dot(a, b)\n",
    "\n",
    "@profile_function\n",
    "def data_processing(n):\n",
    "    \"\"\"Process large dataset.\"\"\"\n",
    "    data = [i ** 2 for i in range(n)]\n",
    "    result = sum(data) / len(data)\n",
    "    return result\n",
    "\n",
    "# Run with profiling\n",
    "print(\"Running matrix multiplication...\")\n",
    "result1 = matrix_multiplication(100)\n",
    "print(f\"Matrix shape: {result1.shape}\")\n",
    "\n",
    "print(\"\\nRunning data processing...\")\n",
    "result2 = data_processing(10000)\n",
    "print(f\"Average: {result2:.2f}\")\n",
    "\n",
    "# Display profiling stats\n",
    "print(\"\\n=== Matrix Multiplication Stats ===\")\n",
    "stats1 = matrix_multiplication.performance_stats\n",
    "print(f\"I/O wait time: {stats1.io_wait_time:.4f}s\")\n",
    "mem_stats1 = stats1._get_memory_stats()\n",
    "if mem_stats1:\n",
    "    print(f\"Memory: {mem_stats1['current_mb']:.2f}MB (peak: {mem_stats1['peak_mb']:.2f}MB)\")\n",
    "\n",
    "print(\"\\n=== Data Processing Stats ===\")\n",
    "stats2 = data_processing.performance_stats\n",
    "print(f\"I/O wait time: {stats2.io_wait_time:.4f}s\")\n",
    "mem_stats2 = stats2._get_memory_stats()\n",
    "if mem_stats2:\n",
    "    print(f\"Memory: {mem_stats2['current_mb']:.2f}MB (peak: {mem_stats2['peak_mb']:.2f}MB)\")"
   ]
  },
  {
   "cell_type": "markdown",
   "metadata": {},
   "source": [
    "## Example 4: Combined Tracing and Profiling\n",
    "\n",
    "Combine call graph tracing with performance profiling for comprehensive analysis."
   ]
  },
  {
   "cell_type": "code",
   "execution_count": null,
   "metadata": {},
   "outputs": [],
   "source": [
    "def load_data(size):\n",
    "    \"\"\"Simulate data loading.\"\"\"\n",
    "    time.sleep(0.05)  # Simulate I/O\n",
    "    return np.random.rand(size)\n",
    "\n",
    "def transform_data(data):\n",
    "    \"\"\"Transform data.\"\"\"\n",
    "    return data * 2 + 1\n",
    "\n",
    "def analyze_data(data):\n",
    "    \"\"\"Analyze transformed data.\"\"\"\n",
    "    return {\n",
    "        'mean': np.mean(data),\n",
    "        'std': np.std(data),\n",
    "        'min': np.min(data),\n",
    "        'max': np.max(data)\n",
    "    }\n",
    "\n",
    "def pipeline(size):\n",
    "    \"\"\"Complete data pipeline.\"\"\"\n",
    "    data = load_data(size)\n",
    "    transformed = transform_data(data)\n",
    "    results = analyze_data(transformed)\n",
    "    return results\n",
    "\n",
    "# Run with both tracing and profiling\n",
    "with profile_section(\"Data Pipeline\") as perf_stats:\n",
    "    with trace_scope() as graph:\n",
    "        results = pipeline(1000)\n",
    "        print(f\"Analysis Results: {results}\")\n",
    "\n",
    "# Display call graph\n",
    "display_callgraph(graph.to_dict(), height=\"400px\", layout=\"hierarchical\")\n",
    "\n",
    "# Display profiling stats\n",
    "print(\"\\n=== Performance Stats ===\")\n",
    "stats_dict = perf_stats.to_dict()\n",
    "print(f\"I/O wait time: {stats_dict['io_wait']:.4f}s\")\n",
    "if stats_dict['memory']:\n",
    "    print(f\"Memory: {stats_dict['memory']['current_mb']:.2f}MB\")\n",
    "if stats_dict['cpu']:\n",
    "    print(\"\\nCPU Profile (first 300 chars):\")\n",
    "    print(stats_dict['cpu']['profile_data'][:300])"
   ]
  },
  {
   "cell_type": "markdown",
   "metadata": {},
   "source": [
    "## Example 5: Export to HTML\n",
    "\n",
    "Export the call graph with profiling data to an interactive HTML file."
   ]
  },
  {
   "cell_type": "code",
   "execution_count": null,
   "metadata": {},
   "outputs": [],
   "source": [
    "# Create a complex workflow\n",
    "def step1():\n",
    "    time.sleep(0.01)\n",
    "    return \"Step 1 complete\"\n",
    "\n",
    "def step2():\n",
    "    time.sleep(0.02)\n",
    "    return \"Step 2 complete\"\n",
    "\n",
    "def step3():\n",
    "    result1 = step1()\n",
    "    result2 = step2()\n",
    "    return f\"{result1}, {result2}\"\n",
    "\n",
    "def main_workflow():\n",
    "    return step3()\n",
    "\n",
    "# Trace and profile\n",
    "with profile_section(\"Complete Workflow\") as perf_stats:\n",
    "    with trace_scope() as graph:\n",
    "        result = main_workflow()\n",
    "        print(result)\n",
    "\n",
    "# Export to HTML\n",
    "output_file = \"jupyter_callgraph_export.html\"\n",
    "export_html(\n",
    "    graph, \n",
    "    output_file,\n",
    "    title=\"Jupyter Notebook Call Graph\",\n",
    "    profiling_stats=perf_stats.to_dict()\n",
    ")\n",
    "\n",
    "print(f\"\\n✓ Exported to {output_file}\")\n",
    "print(f\"  - {len(graph.nodes)} nodes\")\n",
    "print(f\"  - {len(graph.edges)} edges\")\n",
    "print(f\"  - Profiling data included\")"
   ]
  },
  {
   "cell_type": "markdown",
   "metadata": {},
   "source": [
    "## Example 6: Using Magic Commands\n",
    "\n",
    "Use Jupyter magic commands for quick tracing."
   ]
  },
  {
   "cell_type": "code",
   "execution_count": null,
   "metadata": {},
   "outputs": [],
   "source": [
    "%%callflow_cell_trace\n",
    "\n",
    "def quick_test(n):\n",
    "    \"\"\"Quick test function.\"\"\"\n",
    "    return sum(range(n))\n",
    "\n",
    "def another_function(n):\n",
    "    \"\"\"Another function.\"\"\"\n",
    "    result = quick_test(n)\n",
    "    return result * 2\n",
    "\n",
    "# This entire cell will be traced\n",
    "result = another_function(100)\n",
    "print(f\"Result: {result}\")"
   ]
  },
  {
   "cell_type": "markdown",
   "metadata": {},
   "source": [
    "## Example 7: Real-World Scenario - Data Science Pipeline\n",
    "\n",
    "A realistic data science workflow with multiple stages."
   ]
  },
  {
   "cell_type": "code",
   "execution_count": null,
   "metadata": {},
   "outputs": [],
   "source": [
    "def fetch_dataset(n_samples):\n",
    "    \"\"\"Simulate fetching data from a source.\"\"\"\n",
    "    time.sleep(0.02)\n",
    "    return np.random.rand(n_samples, 5)\n",
    "\n",
    "def preprocess(data):\n",
    "    \"\"\"Preprocess the data.\"\"\"\n",
    "    # Normalize\n",
    "    normalized = (data - data.mean(axis=0)) / data.std(axis=0)\n",
    "    return normalized\n",
    "\n",
    "def feature_engineering(data):\n",
    "    \"\"\"Create new features.\"\"\"\n",
    "    # Add polynomial features\n",
    "    squared = data ** 2\n",
    "    return np.hstack([data, squared])\n",
    "\n",
    "def train_model(features):\n",
    "    \"\"\"Simulate model training.\"\"\"\n",
    "    time.sleep(0.05)\n",
    "    # Simple computation to simulate training\n",
    "    weights = np.mean(features, axis=0)\n",
    "    return weights\n",
    "\n",
    "def evaluate_model(weights, features):\n",
    "    \"\"\"Evaluate model performance.\"\"\"\n",
    "    predictions = np.dot(features, weights)\n",
    "    score = np.mean(predictions)\n",
    "    return score\n",
    "\n",
    "def ml_pipeline(n_samples):\n",
    "    \"\"\"Complete ML pipeline.\"\"\"\n",
    "    # Fetch data\n",
    "    data = fetch_dataset(n_samples)\n",
    "    \n",
    "    # Preprocess\n",
    "    processed = preprocess(data)\n",
    "    \n",
    "    # Feature engineering\n",
    "    features = feature_engineering(processed)\n",
    "    \n",
    "    # Train\n",
    "    model = train_model(features)\n",
    "    \n",
    "    # Evaluate\n",
    "    score = evaluate_model(model, features)\n",
    "    \n",
    "    return score\n",
    "\n",
    "# Run the pipeline with tracing and profiling\n",
    "print(\"Running ML Pipeline...\\n\")\n",
    "\n",
    "with profile_section(\"ML Pipeline\") as perf_stats:\n",
    "    with trace_scope() as graph:\n",
    "        final_score = ml_pipeline(500)\n",
    "        print(f\"Model Score: {final_score:.4f}\")\n",
    "\n",
    "# Visualize the pipeline\n",
    "display_callgraph(graph.to_dict(), height=\"600px\", layout=\"hierarchical\")\n",
    "\n",
    "# Show performance metrics\n",
    "print(\"\\n=== Pipeline Performance ===\")\n",
    "stats = perf_stats.to_dict()\n",
    "print(f\"Total I/O wait: {stats['io_wait']:.4f}s\")\n",
    "if stats['memory']:\n",
    "    print(f\"Peak memory: {stats['memory']['peak_mb']:.2f}MB\")\n",
    "print(f\"Functions called: {len(graph.nodes)}\")\n",
    "print(f\"Call relationships: {len(graph.edges)}\")"
   ]
  },
  {
   "cell_type": "markdown",
   "metadata": {},
   "source": [
    "## Summary\n",
    "\n",
    "This notebook demonstrated:\n",
    "\n",
    "1. **Basic tracing** - Capture function call relationships\n",
    "2. **Recursive functions** - Visualize complex call hierarchies\n",
    "3. **Performance profiling** - Measure execution time and memory\n",
    "4. **Combined analysis** - Trace + profile together\n",
    "5. **HTML export** - Save interactive visualizations\n",
    "6. **Magic commands** - Quick tracing with IPython magics\n",
    "7. **Real-world example** - Complete ML pipeline analysis\n",
    "\n",
    "### Key Features:\n",
    "\n",
    "- 📊 Interactive call graph visualization\n",
    "- ⚡ Performance profiling (CPU, memory, I/O)\n",
    "- 🔄 Multiple layout options (hierarchical, force-directed, circular, timeline)\n",
    "- 💾 Export to standalone HTML files\n",
    "- 🪄 Jupyter magic commands for convenience\n",
    "- 🎯 Detailed function call statistics"
   ]
  }
 ],
 "metadata": {
  "kernelspec": {
   "display_name": "Python 3",
   "language": "python",
   "name": "python3"
  },
  "language_info": {
   "codemirror_mode": {
    "name": "ipython",
    "version": 3
   },
   "file_extension": ".py",
   "mimetype": "text/x-python",
   "name": "python",
   "nbconvert_exporter": "python",
   "pygments_lexer": "ipython3",
   "version": "3.12.10"
  }
 },
 "nbformat": 4,
 "nbformat_minor": 4
}
